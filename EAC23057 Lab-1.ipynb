{
 "cells": [
  {
   "cell_type": "code",
   "execution_count": 3,
   "id": "bb09ea12",
   "metadata": {},
   "outputs": [
    {
     "data": {
      "text/plain": [
       "float"
      ]
     },
     "execution_count": 3,
     "metadata": {},
     "output_type": "execute_result"
    }
   ],
   "source": [
    "z=3.5\n",
    "type(z)"
   ]
  },
  {
   "cell_type": "code",
   "execution_count": 13,
   "id": "6d2fa4e7",
   "metadata": {},
   "outputs": [
    {
     "data": {
      "text/plain": [
       "int"
      ]
     },
     "execution_count": 13,
     "metadata": {},
     "output_type": "execute_result"
    }
   ],
   "source": [
    "z=3\n",
    "type(z)"
   ]
  },
  {
   "cell_type": "code",
   "execution_count": 12,
   "id": "7e1c2e2f",
   "metadata": {},
   "outputs": [
    {
     "data": {
      "text/plain": [
       "complex"
      ]
     },
     "execution_count": 12,
     "metadata": {},
     "output_type": "execute_result"
    }
   ],
   "source": [
    "z=3j\n",
    "type(z)"
   ]
  },
  {
   "cell_type": "code",
   "execution_count": 13,
   "id": "263ac04d",
   "metadata": {},
   "outputs": [
    {
     "data": {
      "text/plain": [
       "7.5"
      ]
     },
     "execution_count": 13,
     "metadata": {},
     "output_type": "execute_result"
    }
   ],
   "source": [
    "3.5+4"
   ]
  },
  {
   "cell_type": "code",
   "execution_count": 14,
   "id": "02c59a0b",
   "metadata": {},
   "outputs": [
    {
     "data": {
      "text/plain": [
       "3"
      ]
     },
     "execution_count": 14,
     "metadata": {},
     "output_type": "execute_result"
    }
   ],
   "source": [
    "True+2"
   ]
  },
  {
   "cell_type": "code",
   "execution_count": 16,
   "id": "9111cd9f",
   "metadata": {},
   "outputs": [
    {
     "data": {
      "text/plain": [
       "1"
      ]
     },
     "execution_count": 16,
     "metadata": {},
     "output_type": "execute_result"
    }
   ],
   "source": [
    "2*False+True"
   ]
  },
  {
   "cell_type": "code",
   "execution_count": 12,
   "id": "72364010",
   "metadata": {},
   "outputs": [
    {
     "data": {
      "text/plain": [
       "4"
      ]
     },
     "execution_count": 12,
     "metadata": {},
     "output_type": "execute_result"
    }
   ],
   "source": [
    "int(4.9)"
   ]
  },
  {
   "cell_type": "code",
   "execution_count": 19,
   "id": "eda644cb",
   "metadata": {},
   "outputs": [
    {
     "data": {
      "text/plain": [
       "True"
      ]
     },
     "execution_count": 19,
     "metadata": {},
     "output_type": "execute_result"
    }
   ],
   "source": [
    "bool(-7)"
   ]
  },
  {
   "cell_type": "code",
   "execution_count": 20,
   "id": "21373365",
   "metadata": {},
   "outputs": [
    {
     "data": {
      "text/plain": [
       "False"
      ]
     },
     "execution_count": 20,
     "metadata": {},
     "output_type": "execute_result"
    }
   ],
   "source": [
    "bool(0)"
   ]
  },
  {
   "cell_type": "code",
   "execution_count": 7,
   "id": "e2c1b1a3",
   "metadata": {},
   "outputs": [
    {
     "data": {
      "text/plain": [
       "16.0"
      ]
     },
     "execution_count": 7,
     "metadata": {},
     "output_type": "execute_result"
    }
   ],
   "source": [
    "4.5+bool(-8)+int(6)+3.5+True"
   ]
  },
  {
   "cell_type": "code",
   "execution_count": 24,
   "id": "7ad198bd",
   "metadata": {},
   "outputs": [
    {
     "data": {
      "text/plain": [
       "'I am a data scientist'"
      ]
     },
     "execution_count": 24,
     "metadata": {},
     "output_type": "execute_result"
    }
   ],
   "source": [
    "a= \"I am a data scientist\"\n",
    "a\n",
    "#print(a)"
   ]
  },
  {
   "cell_type": "code",
   "execution_count": 25,
   "id": "0ffc54c9",
   "metadata": {},
   "outputs": [
    {
     "data": {
      "text/plain": [
       "'scientist'"
      ]
     },
     "execution_count": 25,
     "metadata": {},
     "output_type": "execute_result"
    }
   ],
   "source": [
    "a[-9:]"
   ]
  },
  {
   "cell_type": "code",
   "execution_count": 29,
   "id": "fae8680a",
   "metadata": {},
   "outputs": [
    {
     "data": {
      "text/plain": [
       "0"
      ]
     },
     "execution_count": 29,
     "metadata": {},
     "output_type": "execute_result"
    }
   ],
   "source": [
    "a=3\n",
    "z=True\n",
    "a*z"
   ]
  },
  {
   "cell_type": "code",
   "execution_count": 56,
   "id": "1a5675c7",
   "metadata": {},
   "outputs": [],
   "source": [
    "import datetime as dt"
   ]
  },
  {
   "cell_type": "code",
   "execution_count": 28,
   "id": "f3bc7855",
   "metadata": {},
   "outputs": [
    {
     "data": {
      "text/plain": [
       "datetime.date(2025, 1, 6)"
      ]
     },
     "execution_count": 28,
     "metadata": {},
     "output_type": "execute_result"
    }
   ],
   "source": [
    "td = dt.date.today()\n",
    "td"
   ]
  },
  {
   "cell_type": "code",
   "execution_count": 37,
   "id": "a2207c8a",
   "metadata": {},
   "outputs": [
    {
     "name": "stdout",
     "output_type": "stream",
     "text": [
      "6\n"
     ]
    }
   ],
   "source": [
    "print(dt.date.today().day)"
   ]
  },
  {
   "cell_type": "code",
   "execution_count": 57,
   "id": "4c60b7e4",
   "metadata": {},
   "outputs": [
    {
     "name": "stdout",
     "output_type": "stream",
     "text": [
      "2025\n"
     ]
    }
   ],
   "source": [
    "print(dt.date.today().year)"
   ]
  },
  {
   "cell_type": "code",
   "execution_count": 40,
   "id": "84b1dee7",
   "metadata": {},
   "outputs": [
    {
     "name": "stdout",
     "output_type": "stream",
     "text": [
      "7089 days, 0:00:00\n"
     ]
    }
   ],
   "source": [
    "td = dt.date.today()\n",
    "bday = dt.date(2005,8,10)\n",
    "print(td-bday)"
   ]
  },
  {
   "cell_type": "code",
   "execution_count": 41,
   "id": "1f995f8e",
   "metadata": {},
   "outputs": [
    {
     "name": "stdout",
     "output_type": "stream",
     "text": [
      "True\n"
     ]
    }
   ],
   "source": [
    "print(5>3)"
   ]
  },
  {
   "cell_type": "code",
   "execution_count": 23,
   "id": "311eb286",
   "metadata": {},
   "outputs": [
    {
     "name": "stdout",
     "output_type": "stream",
     "text": [
      "False\n"
     ]
    }
   ],
   "source": [
    "print(5<3)"
   ]
  },
  {
   "cell_type": "code",
   "execution_count": 10,
   "id": "aff9c8a5",
   "metadata": {},
   "outputs": [
    {
     "name": "stdout",
     "output_type": "stream",
     "text": [
      "even\n",
      "no\n",
      "enter value 5\n",
      "odd\n"
     ]
    }
   ],
   "source": [
    "x=8\n",
    "if(x%2==0):\n",
    "    print(\"even\")\n",
    "else:\n",
    "    print(\"odd\")\n",
    "    print(\"gg gg\")\n",
    "print(\"no\")\n",
    "\n",
    "y1= input(\"enter value \")\n",
    "y= int(y1)\n",
    "if(y%2==0):\n",
    "    print(\"even\")\n",
    "else:\n",
    "    print(\"odd\")"
   ]
  },
  {
   "cell_type": "code",
   "execution_count": 58,
   "id": "a88b71a7",
   "metadata": {},
   "outputs": [
    {
     "name": "stdout",
     "output_type": "stream",
     "text": [
      "odd\n",
      "gg gg\n",
      "no\n",
      "enter value 5\n",
      "odd\n"
     ]
    }
   ],
   "source": [
    "x=8\n",
    "if(x%2!=0):\n",
    "    print(\"even\")\n",
    "else:\n",
    "    print(\"odd\")\n",
    "    print(\"gg gg\")\n",
    "print(\"no\")\n",
    "\n",
    "y1= input(\"enter value \")\n",
    "y= int(y1)\n",
    "if(y%2==0):\n",
    "    print(\"even\")\n",
    "else:\n",
    "    print(\"odd\")"
   ]
  },
  {
   "cell_type": "code",
   "execution_count": 5,
   "id": "a88f3dc9",
   "metadata": {},
   "outputs": [],
   "source": [
    "def hello():\n",
    "    print(\"hello data science world\")"
   ]
  },
  {
   "cell_type": "code",
   "execution_count": 6,
   "id": "cef483bb",
   "metadata": {},
   "outputs": [
    {
     "name": "stdout",
     "output_type": "stream",
     "text": [
      "hello data science world\n"
     ]
    }
   ],
   "source": [
    "hello()"
   ]
  },
  {
   "cell_type": "code",
   "execution_count": 22,
   "id": "10cd5bee",
   "metadata": {},
   "outputs": [
    {
     "name": "stdout",
     "output_type": "stream",
     "text": [
      "Enter value 4\n",
      "Enter value 5\n",
      "sum is  9\n",
      "difference is  -1\n",
      "product is  20\n",
      "x/y is  0.8\n"
     ]
    }
   ],
   "source": [
    "x=int(input(\"Enter value \"))\n",
    "y=int(input(\"Enter value \"))\n",
    "print(\"sum is \",x+y)\n",
    "print(\"difference is \",x-y)\n",
    "print(\"product is \",x*y)\n",
    "print(\"x/y is \",x/y)"
   ]
  },
  {
   "cell_type": "code",
   "execution_count": 26,
   "id": "c8181990",
   "metadata": {},
   "outputs": [
    {
     "name": "stdout",
     "output_type": "stream",
     "text": [
      "['amrita', 'for', 'engineering']\n",
      "\n",
      "list of numbers [10, 20, 120]\n",
      "amrita\n"
     ]
    }
   ],
   "source": [
    "Var = [\"amrita\",\"for\",\"engineering\"]\n",
    "print(Var)\n",
    "\n",
    "#creating a list\n",
    "list = [10,20,120]\n",
    "print(\"\\nlist of numbers\",list)\n",
    "print(Var[0])"
   ]
  },
  {
   "cell_type": "code",
   "execution_count": 35,
   "id": "2b261f3f",
   "metadata": {},
   "outputs": [
    {
     "name": "stdout",
     "output_type": "stream",
     "text": [
      "Amrita\n",
      "For\n",
      "Engineering\n"
     ]
    }
   ],
   "source": [
    "List = [['Amrita','For'],['Engineering']]\n",
    "print(List[0][0])\n",
    "print(List[0][1])\n",
    "print(List[1][0])"
   ]
  },
  {
   "cell_type": "code",
   "execution_count": 21,
   "id": "a62a14b5",
   "metadata": {},
   "outputs": [
    {
     "name": "stdout",
     "output_type": "stream",
     "text": [
      "\n",
      "List with the use of numbers: \n",
      "[1, 2, 3, 4, 5, 3, 3, 4, 6]\n",
      "[1, 2, 'Amrita', 4, 'For', 6, 'Engineering']\n"
     ]
    }
   ],
   "source": [
    "List = [1,2,3,4,5,3,3,4,6]\n",
    "print(\"\\nList with the use of numbers: \")\n",
    "print(List)\n",
    "\n",
    "List = [1,2,'Amrita',4,'For',6,'Engineering']\n",
    "print(List)"
   ]
  },
  {
   "cell_type": "code",
   "execution_count": 22,
   "id": "fc62473a",
   "metadata": {},
   "outputs": [
    {
     "name": "stdout",
     "output_type": "stream",
     "text": [
      "6\n"
     ]
    }
   ],
   "source": [
    "print(list[-2])"
   ]
  },
  {
   "cell_type": "code",
   "execution_count": 39,
   "id": "b7937c06",
   "metadata": {},
   "outputs": [
    {
     "name": "stdout",
     "output_type": "stream",
     "text": [
      "enter element (space seperated): Amrita School Of Engineering \n",
      "The list is: ['Amrita', 'School', 'Of', 'Engineering']\n"
     ]
    }
   ],
   "source": [
    "string = input (\"enter element (space seperated): \")\n",
    "list = string.split()\n",
    "print('The list is:',list)"
   ]
  },
  {
   "cell_type": "code",
   "execution_count": 19,
   "id": "6f4f8826",
   "metadata": {},
   "outputs": [
    {
     "name": "stdout",
     "output_type": "stream",
     "text": [
      "Initial blank list: \n",
      "[]\n",
      "\n",
      "list after addition of three elements: \n",
      "[1, 6, 7]\n",
      "\n",
      "List after addition of elements from 1-3: \n",
      "[1, 2, 3]\n",
      "\n",
      "List after addition of a tuple: \n",
      "[1, 2, 3, (4, 5)]\n",
      "[1, 2, 3, (4, 5), [4, 5]]\n",
      "[1, 6, 7]\n"
     ]
    }
   ],
   "source": [
    "list = []\n",
    "print(\"Initial blank list: \")\n",
    "print(list)\n",
    "\n",
    "#addition of elements in the list\n",
    "list.append(1)\n",
    "list.append(6)\n",
    "list.append(7)\n",
    "print(\"\\nlist after addition of three elements: \")\n",
    "print(list)\n",
    "\n",
    "List=[]\n",
    "#adding elements to the list using Iterator\n",
    "for i in range(1,4):\n",
    "    List.append(i)\n",
    "print('\\nList after addition of elements from 1-3: ')\n",
    "print(List)\n",
    "\n",
    "List.append((4,5))\n",
    "print('\\nList after addition of a tuple: ')\n",
    "print(List)\n",
    "\n",
    "list2=[4,5]\n",
    "List.append(list2)\n",
    "print(List)\n",
    "\n",
    "List.remove(list2)\n",
    "print(list)"
   ]
  },
  {
   "cell_type": "code",
   "execution_count": 25,
   "id": "a4de94ed",
   "metadata": {},
   "outputs": [
    {
     "name": "stdout",
     "output_type": "stream",
     "text": [
      "Give first number5\n",
      "Give second number6\n",
      "second number is greater\n"
     ]
    }
   ],
   "source": [
    "list=[]\n",
    "list.append(input(\"Give first number\"))\n",
    "list.append(input(\"Give second number\"))\n",
    "if(list[0]>list[1]):\n",
    "    print(\"first number is greater\")\n",
    "else:\n",
    "    print(\"second number is greater\")"
   ]
  },
  {
   "cell_type": "code",
   "execution_count": 28,
   "id": "b40f8e5b",
   "metadata": {},
   "outputs": [
    {
     "name": "stdout",
     "output_type": "stream",
     "text": [
      "\n",
      "List with multiples of 20 from 1-100: \n",
      "[20, 40, 60, 80]\n"
     ]
    }
   ],
   "source": [
    "List=[]\n",
    "for i in range(1,100):\n",
    "    if (i%20==0):\n",
    "        List.append(i)\n",
    "print('\\nList with multiples of 20 from 1-100: ')\n",
    "print(List)"
   ]
  }
 ],
 "metadata": {
  "kernelspec": {
   "display_name": "Python 3 (ipykernel)",
   "language": "python",
   "name": "python3"
  },
  "language_info": {
   "codemirror_mode": {
    "name": "ipython",
    "version": 3
   },
   "file_extension": ".py",
   "mimetype": "text/x-python",
   "name": "python",
   "nbconvert_exporter": "python",
   "pygments_lexer": "ipython3",
   "version": "3.9.13"
  }
 },
 "nbformat": 4,
 "nbformat_minor": 5
}
